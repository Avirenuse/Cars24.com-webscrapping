{
 "cells": [
  {
   "cell_type": "code",
   "execution_count": 24,
   "id": "34eb00bd-394d-4926-80ce-8aec29a493bb",
   "metadata": {},
   "outputs": [],
   "source": [
    "import pandas as pd\n",
    "import selenium\n",
    "import seaborn as sns\n",
    "import re\n",
    "import matplotlib.pyplot as plt"
   ]
  },
  {
   "cell_type": "code",
   "execution_count": 3,
   "id": "1c10912f-8a91-4b89-af25-23a2b15ba5e9",
   "metadata": {},
   "outputs": [],
   "source": [
    "from selenium import webdriver\n",
    "from selenium.webdriver.chrome.service import Service\n",
    "from selenium.webdriver.chrome.options import Options\n",
    "from webdriver_manager.chrome import ChromeDriverManager\n",
    "from selenium.webdriver.common.by import By\n",
    "\n",
    "\n",
    "options = Options()\n",
    "service = Service(ChromeDriverManager().install())\n",
    "driver = webdriver.Chrome(service=service, options=options)\n",
    "\n",
    "driver.get(\"https://www.cars24.com/buy-used-ford-cars-mumbai/?sort=bestmatch&serveWarrantyCount=true&storeCityId=2378\")\n"
   ]
  },
  {
   "cell_type": "code",
   "execution_count": 4,
   "id": "e205f32b-b8f6-4a4c-bf01-ead371e5b2f8",
   "metadata": {},
   "outputs": [],
   "source": [
    "\n",
    "Car_Name_year=driver.find_elements(By.CSS_SELECTOR,\".sc-braxZu.kjFjan\") #Extracing the car model year and name\n",
    "car_name_year_text= [value.text for value in Car_Name_year]\n",
    "\n",
    "#Segregating the year and car name from the variable car_name_year_text\n",
    "Manuf_year=[]\n",
    "Cars_names=[]\n",
    "\n",
    "for i in range(0, len(car_name_year_text)):\n",
    "    details=car_name_year_text[i]\n",
    "    M_year= re.findall(r\"\\d{4}\", details)\n",
    "    Manuf_year.append(M_year)\n",
    "    \n",
    "    Car_name=re.findall(r\"(\\b[^\\d{4}]\\w+\\b)\", details)\n",
    "    NAME = [name.strip() for name in Car_name]\n",
    "    Cars = ' '.join(NAME)\n",
    "    Cars_names.append(Cars)\n"
   ]
  },
  {
   "cell_type": "code",
   "execution_count": 5,
   "id": "344d56d3-5e96-4ad5-ae19-993b38fe7cbf",
   "metadata": {},
   "outputs": [],
   "source": [
    "Price_Car=driver.find_elements(By.CSS_SELECTOR,\".sc-braxZu.cyPhJl\") #Extracting price of car\n",
    "car_details=driver.find_elements(By.CSS_SELECTOR,\".sc-braxZu.kvfdZL\") #Extracting all car details\n",
    "\n",
    "\n",
    "#Transforming the price details for data analysis\n",
    "\n",
    "prices=[value.text for value in Price_Car]\n",
    "prices=[cleaned for cleaned in prices if cleaned.strip() and '₹' in cleaned]\n",
    "\n",
    "\n",
    "#Extracting kilometres driven, fuel type and transmission from the raw data\n",
    "\n",
    "Cars_details=[value.text for value in car_details]\n",
    "\n",
    "Kilometers_Drive=[]\n",
    "Fuel_Types=[]\n",
    "Transmissions=[]\n",
    "\n",
    "chunk_size=4\n",
    "for i in range(0,len(Cars_details),4):\n",
    "    chunks=Cars_details[i:i+chunk_size]\n",
    "    Kilometers_Driven=chunks[0]\n",
    "    Kilometers_Drive.append(Kilometers_Driven)\n",
    "    Fuel_Type = chunks[1]\n",
    "    Fuel_Types.append(Fuel_Type)\n",
    "    Transmission=chunks[2]\n",
    "    Transmissions.append(Transmission)\n"
   ]
  },
  {
   "cell_type": "code",
   "execution_count": 6,
   "id": "81bb0a4e-c3da-4653-9282-dd8e0fdc2b44",
   "metadata": {},
   "outputs": [],
   "source": [
    "#Converting Kilometers Driven and prices into numericals so as to perform data analysis.\n",
    "\n",
    "Car_kilo=[]\n",
    "for km in Kilometers_Drive:\n",
    "    km=km.replace(\"km\",'').strip()\n",
    "    km=km.lower()\n",
    "    if km.endswith('k'):\n",
    "        km=km.replace(\"k\",'').strip()\n",
    "        km=round(float(km)*1000)\n",
    "        Car_kilo.append(km)\n",
    "    elif km.endswith('l'):\n",
    "        km=km.replace(\"l\",'').strip()\n",
    "        km=round(float(km)*100000)\n",
    "        Car_kilo.append(km)\n",
    "\n",
    "Kilometers_Drive= Car_kilo \n",
    "\n",
    "\n",
    "car_prices=[]\n",
    "\n",
    "for price in prices:\n",
    "    price= price.replace('₹','')\n",
    "    if 'lakh' in price:\n",
    "        price= price.replace('lakh','').strip()\n",
    "        price= round(float(price)*100000)\n",
    "        car_prices.append(price)\n",
    "    \n",
    "prices=car_prices\n",
    "\n",
    "\n",
    "YEAR=[]\n",
    "for y in Manuf_year:\n",
    "    YR= int(y[0])\n",
    "    YEAR.append(YR)"
   ]
  },
  {
   "cell_type": "code",
   "execution_count": 61,
   "id": "84e2c4c8-3ad0-4fa4-b16f-cb2723b566d7",
   "metadata": {},
   "outputs": [
    {
     "data": {
      "text/html": [
       "<div>\n",
       "<style scoped>\n",
       "    .dataframe tbody tr th:only-of-type {\n",
       "        vertical-align: middle;\n",
       "    }\n",
       "\n",
       "    .dataframe tbody tr th {\n",
       "        vertical-align: top;\n",
       "    }\n",
       "\n",
       "    .dataframe thead th {\n",
       "        text-align: right;\n",
       "    }\n",
       "</style>\n",
       "<table border=\"1\" class=\"dataframe\">\n",
       "  <thead>\n",
       "    <tr style=\"text-align: right;\">\n",
       "      <th></th>\n",
       "      <th>Name</th>\n",
       "      <th>Kilometers Driven</th>\n",
       "      <th>Year of Manufacture</th>\n",
       "      <th>Fuel Type</th>\n",
       "      <th>Transmission</th>\n",
       "      <th>Price</th>\n",
       "    </tr>\n",
       "  </thead>\n",
       "  <tbody>\n",
       "    <tr>\n",
       "      <th>0</th>\n",
       "      <td>Ford Ecosport</td>\n",
       "      <td>37970</td>\n",
       "      <td>2021</td>\n",
       "      <td>Petrol</td>\n",
       "      <td>Auto</td>\n",
       "      <td>695000</td>\n",
       "    </tr>\n",
       "    <tr>\n",
       "      <th>1</th>\n",
       "      <td>Ford Ecosport</td>\n",
       "      <td>27320</td>\n",
       "      <td>2016</td>\n",
       "      <td>Petrol</td>\n",
       "      <td>Auto</td>\n",
       "      <td>421000</td>\n",
       "    </tr>\n",
       "    <tr>\n",
       "      <th>2</th>\n",
       "      <td>Ford Ecosport</td>\n",
       "      <td>120000</td>\n",
       "      <td>2017</td>\n",
       "      <td>Diesel</td>\n",
       "      <td>Manual</td>\n",
       "      <td>510000</td>\n",
       "    </tr>\n",
       "    <tr>\n",
       "      <th>3</th>\n",
       "      <td>Ford New Figo</td>\n",
       "      <td>25460</td>\n",
       "      <td>2015</td>\n",
       "      <td>Petrol</td>\n",
       "      <td>Manual</td>\n",
       "      <td>240000</td>\n",
       "    </tr>\n",
       "    <tr>\n",
       "      <th>4</th>\n",
       "      <td>Ford Ecosport</td>\n",
       "      <td>70760</td>\n",
       "      <td>2020</td>\n",
       "      <td>Diesel</td>\n",
       "      <td>Manual</td>\n",
       "      <td>692000</td>\n",
       "    </tr>\n",
       "    <tr>\n",
       "      <th>...</th>\n",
       "      <td>...</td>\n",
       "      <td>...</td>\n",
       "      <td>...</td>\n",
       "      <td>...</td>\n",
       "      <td>...</td>\n",
       "      <td>...</td>\n",
       "    </tr>\n",
       "    <tr>\n",
       "      <th>67</th>\n",
       "      <td>Ford Ecosport</td>\n",
       "      <td>71740</td>\n",
       "      <td>2014</td>\n",
       "      <td>Diesel</td>\n",
       "      <td>Manual</td>\n",
       "      <td>507000</td>\n",
       "    </tr>\n",
       "    <tr>\n",
       "      <th>68</th>\n",
       "      <td>Ford Ecosport</td>\n",
       "      <td>28820</td>\n",
       "      <td>2016</td>\n",
       "      <td>Petrol</td>\n",
       "      <td>Auto</td>\n",
       "      <td>383000</td>\n",
       "    </tr>\n",
       "    <tr>\n",
       "      <th>69</th>\n",
       "      <td>Ford New Figo</td>\n",
       "      <td>62730</td>\n",
       "      <td>2015</td>\n",
       "      <td>Petrol</td>\n",
       "      <td>Manual</td>\n",
       "      <td>249000</td>\n",
       "    </tr>\n",
       "    <tr>\n",
       "      <th>70</th>\n",
       "      <td>Ford Ecosport</td>\n",
       "      <td>29370</td>\n",
       "      <td>2019</td>\n",
       "      <td>Petrol</td>\n",
       "      <td>Manual</td>\n",
       "      <td>477000</td>\n",
       "    </tr>\n",
       "    <tr>\n",
       "      <th>71</th>\n",
       "      <td>Ford Ecosport</td>\n",
       "      <td>47060</td>\n",
       "      <td>2018</td>\n",
       "      <td>CNG</td>\n",
       "      <td>Manual</td>\n",
       "      <td>490000</td>\n",
       "    </tr>\n",
       "  </tbody>\n",
       "</table>\n",
       "<p>72 rows × 6 columns</p>\n",
       "</div>"
      ],
      "text/plain": [
       "             Name  Kilometers Driven  Year of Manufacture Fuel Type  \\\n",
       "0   Ford Ecosport              37970                 2021    Petrol   \n",
       "1   Ford Ecosport              27320                 2016    Petrol   \n",
       "2   Ford Ecosport             120000                 2017    Diesel   \n",
       "3   Ford New Figo              25460                 2015    Petrol   \n",
       "4   Ford Ecosport              70760                 2020    Diesel   \n",
       "..            ...                ...                  ...       ...   \n",
       "67  Ford Ecosport              71740                 2014    Diesel   \n",
       "68  Ford Ecosport              28820                 2016    Petrol   \n",
       "69  Ford New Figo              62730                 2015    Petrol   \n",
       "70  Ford Ecosport              29370                 2019    Petrol   \n",
       "71  Ford Ecosport              47060                 2018       CNG   \n",
       "\n",
       "   Transmission   Price  \n",
       "0          Auto  695000  \n",
       "1          Auto  421000  \n",
       "2        Manual  510000  \n",
       "3        Manual  240000  \n",
       "4        Manual  692000  \n",
       "..          ...     ...  \n",
       "67       Manual  507000  \n",
       "68         Auto  383000  \n",
       "69       Manual  249000  \n",
       "70       Manual  477000  \n",
       "71       Manual  490000  \n",
       "\n",
       "[72 rows x 6 columns]"
      ]
     },
     "execution_count": 61,
     "metadata": {},
     "output_type": "execute_result"
    }
   ],
   "source": [
    "Ford_Car_info={\"Name\":Cars_names, \"Kilometers Driven\":Kilometers_Drive, \n",
    "               \"Year of Manufacture\":YEAR, \"Fuel Type\":Fuel_Types,\n",
    "               \"Transmission\":Transmissions, \"Price\":prices }\n",
    "Ford_Cars= pd.DataFrame(Ford_Car_info)\n",
    "\n",
    "Ford_Cars"
   ]
  },
  {
   "cell_type": "code",
   "execution_count": 52,
   "id": "6ebce803-1491-4735-be1c-aae11c1e0283",
   "metadata": {},
   "outputs": [],
   "source": [
    "Ford_Cars.to_csv(\"Ford_cars_data\",index=False)"
   ]
  },
  {
   "cell_type": "code",
   "execution_count": 53,
   "id": "2f56d595-60c1-40f3-932d-84f71fc66c7b",
   "metadata": {},
   "outputs": [],
   "source": [
    "Data_Ford_Cars= pd.read_csv(\"Ford_cars_data\")"
   ]
  },
  {
   "cell_type": "code",
   "execution_count": 54,
   "id": "c42435aa-75d1-4c1f-b57a-abc01524d43e",
   "metadata": {},
   "outputs": [
    {
     "data": {
      "text/html": [
       "<div>\n",
       "<style scoped>\n",
       "    .dataframe tbody tr th:only-of-type {\n",
       "        vertical-align: middle;\n",
       "    }\n",
       "\n",
       "    .dataframe tbody tr th {\n",
       "        vertical-align: top;\n",
       "    }\n",
       "\n",
       "    .dataframe thead th {\n",
       "        text-align: right;\n",
       "    }\n",
       "</style>\n",
       "<table border=\"1\" class=\"dataframe\">\n",
       "  <thead>\n",
       "    <tr style=\"text-align: right;\">\n",
       "      <th></th>\n",
       "      <th>Name</th>\n",
       "      <th>Kilometers Driven</th>\n",
       "      <th>Year of Manufacture</th>\n",
       "      <th>Fuel Type</th>\n",
       "      <th>Transmission</th>\n",
       "      <th>Price</th>\n",
       "    </tr>\n",
       "  </thead>\n",
       "  <tbody>\n",
       "    <tr>\n",
       "      <th>0</th>\n",
       "      <td>Ford Ecosport</td>\n",
       "      <td>37970</td>\n",
       "      <td>2021</td>\n",
       "      <td>Petrol</td>\n",
       "      <td>Auto</td>\n",
       "      <td>695000</td>\n",
       "    </tr>\n",
       "    <tr>\n",
       "      <th>1</th>\n",
       "      <td>Ford Ecosport</td>\n",
       "      <td>27320</td>\n",
       "      <td>2016</td>\n",
       "      <td>Petrol</td>\n",
       "      <td>Auto</td>\n",
       "      <td>421000</td>\n",
       "    </tr>\n",
       "    <tr>\n",
       "      <th>2</th>\n",
       "      <td>Ford Ecosport</td>\n",
       "      <td>120000</td>\n",
       "      <td>2017</td>\n",
       "      <td>Diesel</td>\n",
       "      <td>Manual</td>\n",
       "      <td>510000</td>\n",
       "    </tr>\n",
       "    <tr>\n",
       "      <th>3</th>\n",
       "      <td>Ford New Figo</td>\n",
       "      <td>25460</td>\n",
       "      <td>2015</td>\n",
       "      <td>Petrol</td>\n",
       "      <td>Manual</td>\n",
       "      <td>240000</td>\n",
       "    </tr>\n",
       "    <tr>\n",
       "      <th>4</th>\n",
       "      <td>Ford Ecosport</td>\n",
       "      <td>70760</td>\n",
       "      <td>2020</td>\n",
       "      <td>Diesel</td>\n",
       "      <td>Manual</td>\n",
       "      <td>692000</td>\n",
       "    </tr>\n",
       "    <tr>\n",
       "      <th>...</th>\n",
       "      <td>...</td>\n",
       "      <td>...</td>\n",
       "      <td>...</td>\n",
       "      <td>...</td>\n",
       "      <td>...</td>\n",
       "      <td>...</td>\n",
       "    </tr>\n",
       "    <tr>\n",
       "      <th>67</th>\n",
       "      <td>Ford Ecosport</td>\n",
       "      <td>71740</td>\n",
       "      <td>2014</td>\n",
       "      <td>Diesel</td>\n",
       "      <td>Manual</td>\n",
       "      <td>507000</td>\n",
       "    </tr>\n",
       "    <tr>\n",
       "      <th>68</th>\n",
       "      <td>Ford Ecosport</td>\n",
       "      <td>28820</td>\n",
       "      <td>2016</td>\n",
       "      <td>Petrol</td>\n",
       "      <td>Auto</td>\n",
       "      <td>383000</td>\n",
       "    </tr>\n",
       "    <tr>\n",
       "      <th>69</th>\n",
       "      <td>Ford New Figo</td>\n",
       "      <td>62730</td>\n",
       "      <td>2015</td>\n",
       "      <td>Petrol</td>\n",
       "      <td>Manual</td>\n",
       "      <td>249000</td>\n",
       "    </tr>\n",
       "    <tr>\n",
       "      <th>70</th>\n",
       "      <td>Ford Ecosport</td>\n",
       "      <td>29370</td>\n",
       "      <td>2019</td>\n",
       "      <td>Petrol</td>\n",
       "      <td>Manual</td>\n",
       "      <td>477000</td>\n",
       "    </tr>\n",
       "    <tr>\n",
       "      <th>71</th>\n",
       "      <td>Ford Ecosport</td>\n",
       "      <td>47060</td>\n",
       "      <td>2018</td>\n",
       "      <td>CNG</td>\n",
       "      <td>Manual</td>\n",
       "      <td>490000</td>\n",
       "    </tr>\n",
       "  </tbody>\n",
       "</table>\n",
       "<p>72 rows × 6 columns</p>\n",
       "</div>"
      ],
      "text/plain": [
       "             Name  Kilometers Driven  Year of Manufacture Fuel Type  \\\n",
       "0   Ford Ecosport              37970                 2021    Petrol   \n",
       "1   Ford Ecosport              27320                 2016    Petrol   \n",
       "2   Ford Ecosport             120000                 2017    Diesel   \n",
       "3   Ford New Figo              25460                 2015    Petrol   \n",
       "4   Ford Ecosport              70760                 2020    Diesel   \n",
       "..            ...                ...                  ...       ...   \n",
       "67  Ford Ecosport              71740                 2014    Diesel   \n",
       "68  Ford Ecosport              28820                 2016    Petrol   \n",
       "69  Ford New Figo              62730                 2015    Petrol   \n",
       "70  Ford Ecosport              29370                 2019    Petrol   \n",
       "71  Ford Ecosport              47060                 2018       CNG   \n",
       "\n",
       "   Transmission   Price  \n",
       "0          Auto  695000  \n",
       "1          Auto  421000  \n",
       "2        Manual  510000  \n",
       "3        Manual  240000  \n",
       "4        Manual  692000  \n",
       "..          ...     ...  \n",
       "67       Manual  507000  \n",
       "68         Auto  383000  \n",
       "69       Manual  249000  \n",
       "70       Manual  477000  \n",
       "71       Manual  490000  \n",
       "\n",
       "[72 rows x 6 columns]"
      ]
     },
     "execution_count": 54,
     "metadata": {},
     "output_type": "execute_result"
    }
   ],
   "source": [
    "Data_Ford_Cars"
   ]
  },
  {
   "cell_type": "markdown",
   "id": "e35b5670-be74-4139-a77b-67d2a92c5c39",
   "metadata": {},
   "source": [
    "Data Analysis"
   ]
  },
  {
   "cell_type": "markdown",
   "id": "73c61a0b-5f8f-4e53-877a-af8d8ea4b215",
   "metadata": {},
   "source": [
    "Data Cleaning"
   ]
  },
  {
   "cell_type": "code",
   "execution_count": 12,
   "id": "7dc81ed1-3887-4367-b16c-5a1e99f837c6",
   "metadata": {},
   "outputs": [
    {
     "data": {
      "text/plain": [
       "Name                   0\n",
       "Kilometers Driven      0\n",
       "Year of Manufacture    0\n",
       "Fuel Type              0\n",
       "Transmission           0\n",
       "Price                  0\n",
       "dtype: int64"
      ]
     },
     "execution_count": 12,
     "metadata": {},
     "output_type": "execute_result"
    }
   ],
   "source": [
    "#Checking for missing Values\n",
    "Data_Ford_Cars.isnull().sum()"
   ]
  },
  {
   "cell_type": "code",
   "execution_count": 13,
   "id": "e275e79e-f7f8-40a2-ac8b-b3b6041895ee",
   "metadata": {},
   "outputs": [
    {
     "data": {
      "text/plain": [
       "np.int64(0)"
      ]
     },
     "execution_count": 13,
     "metadata": {},
     "output_type": "execute_result"
    }
   ],
   "source": [
    "#Checking for duplicates\n",
    "Data_Ford_Cars.duplicated().sum()"
   ]
  },
  {
   "cell_type": "code",
   "execution_count": 56,
   "id": "993da472-2fd5-41b5-ac24-d5c51c1e3535",
   "metadata": {},
   "outputs": [
    {
     "name": "stdout",
     "output_type": "stream",
     "text": [
      "<class 'pandas.core.frame.DataFrame'>\n",
      "RangeIndex: 72 entries, 0 to 71\n",
      "Data columns (total 6 columns):\n",
      " #   Column               Non-Null Count  Dtype \n",
      "---  ------               --------------  ----- \n",
      " 0   Name                 72 non-null     object\n",
      " 1   Kilometers Driven    72 non-null     int64 \n",
      " 2   Year of Manufacture  72 non-null     int64 \n",
      " 3   Fuel Type            72 non-null     object\n",
      " 4   Transmission         72 non-null     object\n",
      " 5   Price                72 non-null     int64 \n",
      "dtypes: int64(3), object(3)\n",
      "memory usage: 3.5+ KB\n"
     ]
    }
   ],
   "source": [
    "#Checking if the variables are assigned correct data types.\n",
    "Data_Ford_Cars.info()"
   ]
  },
  {
   "cell_type": "code",
   "execution_count": 15,
   "id": "ce46f0a9-4281-43f2-9754-62ed883dfb31",
   "metadata": {},
   "outputs": [
    {
     "data": {
      "text/html": [
       "<div>\n",
       "<style scoped>\n",
       "    .dataframe tbody tr th:only-of-type {\n",
       "        vertical-align: middle;\n",
       "    }\n",
       "\n",
       "    .dataframe tbody tr th {\n",
       "        vertical-align: top;\n",
       "    }\n",
       "\n",
       "    .dataframe thead th {\n",
       "        text-align: right;\n",
       "    }\n",
       "</style>\n",
       "<table border=\"1\" class=\"dataframe\">\n",
       "  <thead>\n",
       "    <tr style=\"text-align: right;\">\n",
       "      <th></th>\n",
       "      <th>Kilometers Driven</th>\n",
       "      <th>Price</th>\n",
       "    </tr>\n",
       "  </thead>\n",
       "  <tbody>\n",
       "    <tr>\n",
       "      <th>count</th>\n",
       "      <td>72.000000</td>\n",
       "      <td>72.000000</td>\n",
       "    </tr>\n",
       "    <tr>\n",
       "      <th>mean</th>\n",
       "      <td>74399.861111</td>\n",
       "      <td>356166.666667</td>\n",
       "    </tr>\n",
       "    <tr>\n",
       "      <th>std</th>\n",
       "      <td>39189.018241</td>\n",
       "      <td>169173.134084</td>\n",
       "    </tr>\n",
       "    <tr>\n",
       "      <th>min</th>\n",
       "      <td>11550.000000</td>\n",
       "      <td>70000.000000</td>\n",
       "    </tr>\n",
       "    <tr>\n",
       "      <th>25%</th>\n",
       "      <td>46715.000000</td>\n",
       "      <td>246750.000000</td>\n",
       "    </tr>\n",
       "    <tr>\n",
       "      <th>50%</th>\n",
       "      <td>69170.000000</td>\n",
       "      <td>340500.000000</td>\n",
       "    </tr>\n",
       "    <tr>\n",
       "      <th>75%</th>\n",
       "      <td>94257.500000</td>\n",
       "      <td>437500.000000</td>\n",
       "    </tr>\n",
       "    <tr>\n",
       "      <th>max</th>\n",
       "      <td>220000.000000</td>\n",
       "      <td>764000.000000</td>\n",
       "    </tr>\n",
       "  </tbody>\n",
       "</table>\n",
       "</div>"
      ],
      "text/plain": [
       "       Kilometers Driven          Price\n",
       "count          72.000000      72.000000\n",
       "mean        74399.861111  356166.666667\n",
       "std         39189.018241  169173.134084\n",
       "min         11550.000000   70000.000000\n",
       "25%         46715.000000  246750.000000\n",
       "50%         69170.000000  340500.000000\n",
       "75%         94257.500000  437500.000000\n",
       "max        220000.000000  764000.000000"
      ]
     },
     "execution_count": 15,
     "metadata": {},
     "output_type": "execute_result"
    }
   ],
   "source": [
    "Data_Ford_Cars.describe()"
   ]
  },
  {
   "cell_type": "code",
   "execution_count": 16,
   "id": "e970d229-8f47-4fda-ae0e-9216483f3666",
   "metadata": {},
   "outputs": [
    {
     "data": {
      "text/plain": [
       "<Axes: xlabel='Price', ylabel='Count'>"
      ]
     },
     "execution_count": 16,
     "metadata": {},
     "output_type": "execute_result"
    },
    {
     "data": {
      "image/png": "[encoded data removed]",
      "text/plain": [
       "<Figure size 640x480 with 1 Axes>"
      ]
     },
     "metadata": {},
     "output_type": "display_data"
    }
   ],
   "source": [
    "sns.histplot(Data_Ford_Cars['Price'])"
   ]
  },
  {
   "cell_type": "code",
   "execution_count": 29,
   "id": "2dc1d656-1fde-47c3-b11a-49509267fb0d",
   "metadata": {},
   "outputs": [
    {
     "name": "stdout",
     "output_type": "stream",
     "text": [
      "Name : Ford Ecosport\n",
      "Fuel Type : Petrol\n",
      "Transmission : Manual\n"
     ]
    }
   ],
   "source": [
    "Var=[\"Name\",\"Fuel Type\",\"Transmission\"]\n",
    "for i in Var:\n",
    "    Maximum_count=Data_Ford_Cars[i].value_counts().idxmax()\n",
    "    print(i,\":\",Maximum_count)\n",
    "    \n",
    "    "
   ]
  },
  {
   "cell_type": "code",
   "execution_count": 62,
   "id": "93af634d-30ac-497d-acf0-a006a542aefe",
   "metadata": {},
   "outputs": [
    {
     "data": {
      "text/plain": [
       "<Axes: xlabel='Year of Manufacture', ylabel='Count'>"
      ]
     },
     "execution_count": 62,
     "metadata": {},
     "output_type": "execute_result"
    },
    {
     "data": {
      "image/png": "[encoded data removed]",
      "text/plain": [
       "<Figure size 1000x800 with 1 Axes>"
      ]
     },
     "metadata": {},
     "output_type": "display_data"
    }
   ],
   "source": [
    "plt.figure(figsize=(10,8))\n",
    "sns.histplot(Data_Ford_Cars['Year of Manufacture'])\n"
   ]
  },
  {
   "cell_type": "code",
   "execution_count": 63,
   "id": "d78896aa-d74c-430a-a4d5-4133165772e7",
   "metadata": {},
   "outputs": [
    {
     "data": {
      "text/plain": [
       "<Axes: xlabel='Year of Manufacture', ylabel='Price'>"
      ]
     },
     "execution_count": 63,
     "metadata": {},
     "output_type": "execute_result"
    },
    {
     "data": {
      "image/png": "[encoded data removed]",
      "text/plain": [
       "<Figure size 640x480 with 1 Axes>"
      ]
     },
     "metadata": {},
     "output_type": "display_data"
    }
   ],
   "source": [
    "\n",
    "\n",
    "sns.barplot(x=Data_Ford_Cars['Year of Manufacture'], y=Data_Ford_Cars['Price'])\n"
   ]
  },
  {
   "cell_type": "code",
   "execution_count": 68,
   "id": "fee465cb-bda9-4365-9779-2637ef38f054",
   "metadata": {},
   "outputs": [
    {
     "data": {
      "image/png": "[encoded data removed]",
      "text/plain": [
       "<Figure size 640x480 with 1 Axes>"
      ]
     },
     "metadata": {},
     "output_type": "display_data"
    }
   ],
   "source": [
    "Name_count=Data_Ford_Cars[\"Name\"].value_counts()\n",
    "\n",
    "plt.pie(Name_count, labels=Name_count.index)\n",
    "plt.title('Car Names Distribution')\n",
    "plt.show()"
   ]
  },
  {
   "cell_type": "code",
   "execution_count": 90,
   "id": "2d8db3bd-e80b-47c7-b692-a3efb5b7c645",
   "metadata": {},
   "outputs": [],
   "source": [
    "from datetime import datetime\n",
    "\n",
    "Present_year = datetime.now().year\n",
    "\n",
    "Data_Ford_Cars['Car_age']= Present_year-Data_Ford_Cars['Year of Manufacture']\n"
   ]
  },
  {
   "cell_type": "code",
   "execution_count": 75,
   "id": "2f67a2cf-4f2e-426f-98e9-3077ae340942",
   "metadata": {},
   "outputs": [
    {
     "data": {
      "text/plain": [
       "np.float64(-0.800353867859351)"
      ]
     },
     "execution_count": 75,
     "metadata": {},
     "output_type": "execute_result"
    }
   ],
   "source": [
    "Data_Ford_Cars['Car_age'].corr(Data_Ford_Cars['Price'])"
   ]
  },
  {
   "cell_type": "code",
   "execution_count": 85,
   "id": "772fbfa3-6324-4220-be65-165b6e4c9873",
   "metadata": {},
   "outputs": [],
   "source": [
    "correlation_analysis= Data_Ford_Cars[['Price', 'Year of Manufacture','Car_age']].corr()"
   ]
  },
  {
   "cell_type": "code",
   "execution_count": 86,
   "id": "1760371c-2dc0-400f-a09b-75c9fe698f53",
   "metadata": {},
   "outputs": [
    {
     "data": {
      "text/html": [
       "<div>\n",
       "<style scoped>\n",
       "    .dataframe tbody tr th:only-of-type {\n",
       "        vertical-align: middle;\n",
       "    }\n",
       "\n",
       "    .dataframe tbody tr th {\n",
       "        vertical-align: top;\n",
       "    }\n",
       "\n",
       "    .dataframe thead th {\n",
       "        text-align: right;\n",
       "    }\n",
       "</style>\n",
       "<table border=\"1\" class=\"dataframe\">\n",
       "  <thead>\n",
       "    <tr style=\"text-align: right;\">\n",
       "      <th></th>\n",
       "      <th>Price</th>\n",
       "      <th>Year of Manufacture</th>\n",
       "      <th>Car_age</th>\n",
       "    </tr>\n",
       "  </thead>\n",
       "  <tbody>\n",
       "    <tr>\n",
       "      <th>Price</th>\n",
       "      <td>1.000000</td>\n",
       "      <td>0.800354</td>\n",
       "      <td>-0.800354</td>\n",
       "    </tr>\n",
       "    <tr>\n",
       "      <th>Year of Manufacture</th>\n",
       "      <td>0.800354</td>\n",
       "      <td>1.000000</td>\n",
       "      <td>-1.000000</td>\n",
       "    </tr>\n",
       "    <tr>\n",
       "      <th>Car_age</th>\n",
       "      <td>-0.800354</td>\n",
       "      <td>-1.000000</td>\n",
       "      <td>1.000000</td>\n",
       "    </tr>\n",
       "  </tbody>\n",
       "</table>\n",
       "</div>"
      ],
      "text/plain": [
       "                        Price  Year of Manufacture   Car_age\n",
       "Price                1.000000             0.800354 -0.800354\n",
       "Year of Manufacture  0.800354             1.000000 -1.000000\n",
       "Car_age             -0.800354            -1.000000  1.000000"
      ]
     },
     "execution_count": 86,
     "metadata": {},
     "output_type": "execute_result"
    }
   ],
   "source": [
    "correlation_analysis\n"
   ]
  },
  {
   "cell_type": "code",
   "execution_count": 89,
   "id": "147d2bd2-9141-45bc-b9e0-3254b950920c",
   "metadata": {},
   "outputs": [
    {
     "data": {
      "text/plain": [
       "<Axes: >"
      ]
     },
     "execution_count": 89,
     "metadata": {},
     "output_type": "execute_result"
    },
    {
     "data": {
      "image/png": "[encoded data removed]",
      "text/plain": [
       "<Figure size 640x480 with 2 Axes>"
      ]
     },
     "metadata": {},
     "output_type": "display_data"
    }
   ],
   "source": [
    "sns.heatmap(correlation_analysis, annot=True)"
   ]
  },
  {
   "cell_type": "code",
   "execution_count": null,
   "id": "aa2982c9-4fa1-4e1d-9550-93ee93f8aa41",
   "metadata": {},
   "outputs": [],
   "source": []
  }
 ],
 "metadata": {
  "kernelspec": {
   "display_name": "Python 3 (ipykernel)",
   "language": "python",
   "name": "python3"
  },
  "language_info": {
   "codemirror_mode": {
    "name": "ipython",
    "version": 3
   },
   "file_extension": ".py",
   "mimetype": "text/x-python",
   "name": "python",
   "nbconvert_exporter": "python",
   "pygments_lexer": "ipython3",
   "version": "3.13.3"
  }
 },
 "nbformat": 4,
 "nbformat_minor": 5
}
