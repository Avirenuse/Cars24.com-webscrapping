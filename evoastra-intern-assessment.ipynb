{
 "cells": [
  {
   "cell_type": "markdown",
   "metadata": {},
   "source": [
    "# Evoastra Ventures Intern Assessment Task\n",
    "**Duration: 35 Minutes | Total Points: 100**\n",
    "\n",
    "---\n"
   ]
  },
  {
   "cell_type": "markdown",
   "metadata": {},
   "source": [
    "## **Candidate Information**\n",
    "\n",
    "**Fill in your details below:**\n",
    "- **Name:** \n",
    "- **Email:** \n",
    "- **Phone:** \n",
    "- **College/University:** \n",
    "- **Course/Branch:** \n",
    "- **Start Time:** \n",
    "- **End Time:** \n"
   ]
  },
  {
   "cell_type": "markdown",
   "metadata": {},
   "source": [
    "## **Dataset for Assessment**\n",
    "\n",
    "**E-commerce Customer Behavior Dataset**\n",
    "- **Direct Link:** https://www.kaggle.com/datasets/shriyashjagtap/e-commerce-customer-for-behavior-analysis\n",
    "\n",
    "**Dataset Columns:**\n",
    "- **Customer ID:** Unique identifier for each customer\n",
    "- **Customer Name:** Name of the customer\n",
    "- **Customer Age:** Age of the customer\n",
    "- **Gender:** Gender of the customer\n",
    "- **Purchase Date:** Date of each purchase\n",
    "- **Product Category:** Category of the purchased product\n",
    "- **Product Price:** Price of the purchased product\n",
    "- **Quantity:** Quantity of product purchased\n",
    "- **Total Purchase Amount:** Total amount spent in each transaction\n",
    "- **Payment Method:** Payment method used (credit card, PayPal, etc.)\n",
    "- **Returns:** Whether customer returned products (0 = No, 1 = Yes)\n",
    "- **Churn:** Whether customer has churned (0 = Retained, 1 = Churned)\n"
   ]
  },
  {
   "cell_type": "markdown",
   "metadata": {},
   "source": [
    "---\n",
    "## **SECTION A: Data Understanding & Basic Analysis (25 Points - 10 Minutes)**\n"
   ]
  },
  {
   "cell_type": "markdown",
   "metadata": {},
   "source": [
    "### Question 1 (8 points)\n",
    "Based on the dataset structure, identify the **data types** for the following columns and explain why each classification is important for analysis:\n",
    "\n",
    "- **Customer Age**\n",
    "- **Gender**\n",
    "- **Total Purchase Amount**\n",
    "- **Churn**\n"
   ]
  },
  {
   "cell_type": "code",
   "execution_count": null,
   "metadata": {},
   "outputs": [],
   "source": [
    "# Your Answer for Question 1\n",
    "# Customer Age:\n",
    "\n",
    "# Gender:\n",
    "\n",
    "# Total Purchase Amount:\n",
    "\n",
    "# Churn:\n"
   ]
  },
  {
   "cell_type": "markdown",
   "metadata": {},
   "source": [
    "### Question 2 (8 points)\n",
    "Which **analytical technique** would be most appropriate for each business question below?\n",
    "\n",
    "a) \"Which product categories generate the highest revenue?\"\n",
    "b) \"Can we predict customer churn based on purchase behavior?\"\n",
    "c) \"What is the relationship between customer age and spending patterns?\"\n",
    "d) \"Which payment methods are preferred by different customer segments?\"\n"
   ]
  },
  {
   "cell_type": "code",
   "execution_count": null,
   "metadata": {},
   "outputs": [],
   "source": [
    "# Your Answer for Question 2\n",
    "# a) Product categories with highest revenue:\n",
    "\n",
    "# b) Predicting customer churn:\n",
    "\n",
    "# c) Age and spending relationship:\n",
    "\n",
    "# d) Payment method preferences:\n"
   ]
  },
  {
   "cell_type": "markdown",
   "metadata": {},
   "source": [
    "### Question 3 (9 points)\n",
    "**Data Quality Assessment:** What are the top 3 potential data quality issues you would check for in this e-commerce dataset before starting analysis? For each issue, suggest one method to detect it.\n"
   ]
  },
  {
   "cell_type": "code",
   "execution_count": null,
   "metadata": {},
   "outputs": [],
   "source": [
    "# Your Answer for Question 3\n",
    "# Issue 1:\n",
    "\n",
    "# Detection Method 1:\n",
    "\n",
    "# Issue 2:\n",
    "\n",
    "# Detection Method 2:\n",
    "\n",
    "# Issue 3:\n",
    "\n",
    "# Detection Method 3:\n"
   ]
  },
  {
   "cell_type": "markdown",
   "metadata": {},
   "source": [
    "---\n",
    "## **SECTION B: Customer Analysis & Business Intelligence (35 Points - 15 Minutes)**\n"
   ]
  },
  {
   "cell_type": "markdown",
   "metadata": {},
   "source": [
    "### Scenario: E-commerce Revenue Analysis\n",
    "\n",
    "Based on the dataset structure, assume you have the following customer insights:\n",
    "\n",
    "**Customer Segments by Age:**\n",
    "- **Young (18-30):** 40% of customers, Average Purchase Amount: ₹850, Return Rate: 12%\n",
    "- **Middle-aged (31-50):** 45% of customers, Average Purchase Amount: ₹1,200, Return Rate: 8%\n",
    "- **Senior (51+):** 15% of customers, Average Purchase Amount: ₹950, Return Rate: 15%\n",
    "\n",
    "**Additional Information:**\n",
    "- Average customer acquisition cost: ₹180\n",
    "- Platform profit margin: 20% of purchase amount\n",
    "- Customer churn rates: Young (25%), Middle-aged (15%), Senior (30%)\n"
   ]
  },
  {
   "cell_type": "markdown",
   "metadata": {},
   "source": [
    "### Question 4 (15 points)\n",
    "**Calculate and analyze:**\n",
    "\n",
    "a) Which customer segment generates the highest **net profit per customer** (considering returns)? Show your calculations. (8 points)\n",
    "\n",
    "b) Which segment has the **best customer lifetime value** considering churn rates? Provide reasoning. (7 points)\n"
   ]
  },
  {
   "cell_type": "code",
   "execution_count": null,
   "metadata": {},
   "outputs": [],
   "source": [
    "# Your Calculations for Question 4\n",
    "\n",
    "# a) Net profit per customer calculations:\n",
    "\n",
    "# Young Customers:\n",
    "\n",
    "# Middle-aged Customers:\n",
    "\n",
    "# Senior Customers:\n",
    "\n",
    "# b) Customer Lifetime Value Analysis:\n"
   ]
  },
  {
   "cell_type": "markdown",
   "metadata": {},
   "source": [
    "### Question 5 (10 points)\n",
    "**Strategic Recommendations:** Based on your analysis, what would be your **top 2 marketing strategies** to maximize overall profitability? Consider customer acquisition, retention, and return rates.\n"
   ]
  },
  {
   "cell_type": "code",
   "execution_count": null,
   "metadata": {},
   "outputs": [],
   "source": [
    "# Your Answer for Question 5\n",
    "\n",
    "# Strategy 1:\n",
    "\n",
    "# Strategy 2:\n"
   ]
  },
  {
   "cell_type": "markdown",
   "metadata": {},
   "source": [
    "### Question 6 (10 points)\n",
    "**Churn Prevention:** You notice that customers who make purchases in the \"Electronics\" category have a 35% churn rate, while \"Fashion\" category customers have only 18% churn rate. What **specific data analysis** would you conduct using the available dataset columns to understand this difference, and what **action plan** would you recommend?\n"
   ]
  },
  {
   "cell_type": "code",
   "execution_count": null,
   "metadata": {},
   "outputs": [],
   "source": [
    "# Your Answer for Question 6\n",
    "\n",
    "# Data Analysis Plan:\n",
    "\n",
    "# Action Plan:\n"
   ]
  },
  {
   "cell_type": "markdown",
   "metadata": {},
   "source": [
    "---\n",
    "## **SECTION C: Research Methodology & Predictive Analytics (25 Points - 8 Minutes)**\n"
   ]
  },
  {
   "cell_type": "markdown",
   "metadata": {},
   "source": [
    "### Scenario: Churn Prediction Model Development\n",
    "\n",
    "Your company wants to build a machine learning model to predict customer churn using the available dataset.\n"
   ]
  },
  {
   "cell_type": "markdown",
   "metadata": {},
   "source": [
    "### Question 7 (15 points)\n",
    "**Model Development Plan:** Create a comprehensive approach including:\n",
    "\n",
    "a) **Feature selection:** Which columns from the dataset would you use as features for the churn prediction model and why? (5 points)\n",
    "b) **Data preprocessing steps:** What preprocessing would you apply to prepare the data? (5 points)\n",
    "c) **Model evaluation metrics:** Which metrics would you use to evaluate model performance for this business problem? (5 points)\n"
   ]
  },
  {
   "cell_type": "code",
   "execution_count": null,
   "metadata": {},
   "outputs": [],
   "source": [
    "# Your Answer for Question 7\n",
    "\n",
    "# a) Feature Selection:\n",
    "\n",
    "# b) Data Preprocessing Steps:\n",
    "\n",
    "# c) Model Evaluation Metrics:\n"
   ]
  },
  {
   "cell_type": "markdown",
   "metadata": {},
   "source": [
    "### Question 8 (10 points)\n",
    "**Business Impact Analysis:** Identify 3 potential business challenges in implementing a churn prediction model and propose one **data-driven solution** for each challenge using insights from the customer behavior dataset.\n"
   ]
  },
  {
   "cell_type": "code",
   "execution_count": null,
   "metadata": {},
   "outputs": [],
   "source": [
    "# Your Answer for Question 8\n",
    "\n",
    "# Challenge 1:\n",
    "# Data-driven Solution 1:\n",
    "\n",
    "# Challenge 2:\n",
    "# Data-driven Solution 2:\n",
    "\n",
    "# Challenge 3:\n",
    "# Data-driven Solution 3:\n"
   ]
  },
  {
   "cell_type": "markdown",
   "metadata": {},
   "source": [
    "---\n",
    "## **SECTION D: Professional Communication & Problem-Solving (15 Points - 2 Minutes)**\n"
   ]
  },
  {
   "cell_type": "markdown",
   "metadata": {},
   "source": [
    "### Question 9 (8 points)\n",
    "**Crisis Management:** While analyzing the dataset, you discover that 40% of customers who returned products (Returns = 1) also churned within the same month. However, your initial analysis showed returns don't strongly correlate with churn. As a team member, describe your immediate approach to investigate this discrepancy and communicate findings to stakeholders (60-80 words).\n"
   ]
  },
  {
   "cell_type": "code",
   "execution_count": null,
   "metadata": {},
   "outputs": [],
   "source": [
    "# Your Answer for Question 9 (60-80 words)\n"
   ]
  },
  {
   "cell_type": "markdown",
   "metadata": {},
   "source": [
    "### Question 10 (7 points)\n",
    "**Leadership Scenario:** If selected as team lead for analyzing this e-commerce customer dataset, what would be your **top 3 priorities** to ensure effective team collaboration and delivery of actionable business insights?\n"
   ]
  },
  {
   "cell_type": "code",
   "execution_count": null,
   "metadata": {},
   "outputs": [],
   "source": [
    "# Your Answer for Question 10\n",
    "\n",
    "# Priority 1:\n",
    "\n",
    "# Priority 2:\n",
    "\n",
    "# Priority 3:\n"
   ]
  },
  {
   "cell_type": "markdown",
   "metadata": {},
   "source": [
    "---\n",
    "## **Self-Assessment Section**\n"
   ]
  },
  {
   "cell_type": "code",
   "execution_count": null,
   "metadata": {},
   "outputs": [],
   "source": [
    "# Time Management Check\n",
    "# Did you complete all sections within 35 minutes? (Yes/No):\n",
    "\n",
    "# Which section took the most time?\n",
    "\n",
    "# Which section was most challenging?\n",
    "\n",
    "# Confidence Level (1-10 scale):\n",
    "# Section A (Data Understanding):\n",
    "# Section B (Business Analysis):\n",
    "# Section C (Research Methodology):\n",
    "# Section D (Communication):\n",
    "\n",
    "# Additional Comments:\n"
   ]
  },
  {
   "cell_type": "markdown",
   "metadata": {},
   "source": [
    "---\n",
    "## **Submission Instructions**\n",
    "\n",
    "1. **Save this notebook** with the filename: `YourName_Evoastra_Assessment.ipynb`\n",
    "2. **Ensure all code cells have been executed** and answers are visible\n",
    "3. **Double-check** that all sections are completed\n",
    "\n",
    "**Submission Confirmation:**\n",
    "- I confirm that I have completed this assessment independently\n",
    "- All my responses are my own original work\n",
    "\n",
    "**Digital Signature:** ________________________  \n",
    "**Final Submission Time:** ____________________"
   ]
  },
  {
   "cell_type": "markdown",
   "metadata": {},
   "source": [
    "---\n",
    "## **Evaluation Criteria**\n",
    "\n",
    "**Scoring Breakdown:**\n",
    "- **Section A (Data Understanding):** 25 points\n",
    "- **Section B (Business Analysis):** 35 points  \n",
    "- **Section C (Research Methodology):** 25 points\n",
    "- **Section D (Communication):** 15 points\n",
    "- **Total:** 100 points\n",
    "\n",
    "**Team Selection Criteria:**\n",
    "- **Team Lead:** Score ≥ 75 points + Strong Section D performance\n",
    "- **Co-Lead:** Score ≥ 65 points + Good Section D performance\n",
    "- **Team Member:** Successful completion of assessment\n",
    "\n",
    "---\n",
    "\n",
    "*Good luck with your assessment! Focus on clear reasoning, accurate calculations, and practical business applications.*"
   ]
  }
 ],
 "metadata": {
  "kernelspec": {
   "display_name": "Python 3",
   "language": "python",
   "name": "python3"
  },
  "language_info": {
   "codemirror_mode": {
    "name": "ipython",
    "version": 3
   },
   "file_extension": ".py",
   "mimetype": "text/x-python",
   "name": "python",
   "nbconvert_exporter": "python",
   "pygments_lexer": "ipython3",
   "version": "3.8.5"
  }
 },
 "nbformat": 4,
 "nbformat_minor": 4
}
